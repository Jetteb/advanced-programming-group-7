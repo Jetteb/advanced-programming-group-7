{
 "cells": [
  {
   "cell_type": "markdown",
   "id": "6d25068b",
   "metadata": {},
   "source": [
    "# __Assignment 2 Advanced Programming__"
   ]
  },
  {
   "cell_type": "markdown",
   "id": "72d8f4aa",
   "metadata": {},
   "source": [
    "_short description about the assignment and following code_ \n",
    "_to be filled in at the end of the assignment_"
   ]
  },
  {
   "cell_type": "markdown",
   "id": "04e5fa43",
   "metadata": {},
   "source": [
    "Importing packages:"
   ]
  },
  {
   "cell_type": "code",
   "execution_count": 8,
   "id": "7a703616",
   "metadata": {},
   "outputs": [],
   "source": [
    "import pandas as pd\n",
    "import sklearn"
   ]
  },
  {
   "cell_type": "markdown",
   "id": "9ddb9de3",
   "metadata": {},
   "source": [
    "## Part 1: preliminarty data analysis and pre-treatment"
   ]
  },
  {
   "cell_type": "markdown",
   "id": "ac394e09",
   "metadata": {},
   "source": [
    "Before starting the assignment it is first necessary to import the data from the excel file. "
   ]
  },
  {
   "cell_type": "code",
   "execution_count": 10,
   "id": "b1e2a3e3",
   "metadata": {},
   "outputs": [
    {
     "data": {
      "text/html": [
       "<div>\n",
       "<style scoped>\n",
       "    .dataframe tbody tr th:only-of-type {\n",
       "        vertical-align: middle;\n",
       "    }\n",
       "\n",
       "    .dataframe tbody tr th {\n",
       "        vertical-align: top;\n",
       "    }\n",
       "\n",
       "    .dataframe thead th {\n",
       "        text-align: right;\n",
       "    }\n",
       "</style>\n",
       "<table border=\"1\" class=\"dataframe\">\n",
       "  <thead>\n",
       "    <tr style=\"text-align: right;\">\n",
       "      <th></th>\n",
       "      <th>Subject ID</th>\n",
       "      <th>Activity ID</th>\n",
       "      <th>Time stamp</th>\n",
       "      <th>alx</th>\n",
       "      <th>aly</th>\n",
       "      <th>alz</th>\n",
       "      <th>glx</th>\n",
       "      <th>gly</th>\n",
       "      <th>glz</th>\n",
       "      <th>arx</th>\n",
       "      <th>ary</th>\n",
       "      <th>arz</th>\n",
       "      <th>grx</th>\n",
       "      <th>gry</th>\n",
       "      <th>grz</th>\n",
       "    </tr>\n",
       "  </thead>\n",
       "  <tbody>\n",
       "    <tr>\n",
       "      <th>0</th>\n",
       "      <td>1</td>\n",
       "      <td>1</td>\n",
       "      <td>1</td>\n",
       "      <td>0.28409</td>\n",
       "      <td>-9.5692</td>\n",
       "      <td>1.4931</td>\n",
       "      <td>0.70501</td>\n",
       "      <td>-0.48968</td>\n",
       "      <td>0.058939</td>\n",
       "      <td>-0.98630</td>\n",
       "      <td>-8.7188</td>\n",
       "      <td>4.1161</td>\n",
       "      <td>0.64510</td>\n",
       "      <td>-0.45175</td>\n",
       "      <td>0.69181</td>\n",
       "    </tr>\n",
       "    <tr>\n",
       "      <th>1</th>\n",
       "      <td>1</td>\n",
       "      <td>1</td>\n",
       "      <td>2</td>\n",
       "      <td>0.41798</td>\n",
       "      <td>-9.6980</td>\n",
       "      <td>1.4880</td>\n",
       "      <td>0.70501</td>\n",
       "      <td>-0.48968</td>\n",
       "      <td>0.058939</td>\n",
       "      <td>-0.98795</td>\n",
       "      <td>-9.0372</td>\n",
       "      <td>4.2773</td>\n",
       "      <td>0.66667</td>\n",
       "      <td>-0.44353</td>\n",
       "      <td>0.66810</td>\n",
       "    </tr>\n",
       "    <tr>\n",
       "      <th>2</th>\n",
       "      <td>1</td>\n",
       "      <td>1</td>\n",
       "      <td>3</td>\n",
       "      <td>0.33479</td>\n",
       "      <td>-9.5896</td>\n",
       "      <td>1.4405</td>\n",
       "      <td>0.69388</td>\n",
       "      <td>-0.48593</td>\n",
       "      <td>0.078585</td>\n",
       "      <td>-0.89327</td>\n",
       "      <td>-8.7099</td>\n",
       "      <td>4.0124</td>\n",
       "      <td>0.66667</td>\n",
       "      <td>-0.44353</td>\n",
       "      <td>0.66810</td>\n",
       "    </tr>\n",
       "    <tr>\n",
       "      <th>3</th>\n",
       "      <td>1</td>\n",
       "      <td>1</td>\n",
       "      <td>4</td>\n",
       "      <td>0.27516</td>\n",
       "      <td>-9.6480</td>\n",
       "      <td>1.5412</td>\n",
       "      <td>0.69388</td>\n",
       "      <td>-0.48593</td>\n",
       "      <td>0.078585</td>\n",
       "      <td>-0.95632</td>\n",
       "      <td>-8.7986</td>\n",
       "      <td>4.1434</td>\n",
       "      <td>0.66667</td>\n",
       "      <td>-0.44353</td>\n",
       "      <td>0.66810</td>\n",
       "    </tr>\n",
       "    <tr>\n",
       "      <th>4</th>\n",
       "      <td>1</td>\n",
       "      <td>1</td>\n",
       "      <td>5</td>\n",
       "      <td>0.32434</td>\n",
       "      <td>-9.6298</td>\n",
       "      <td>1.3759</td>\n",
       "      <td>0.69388</td>\n",
       "      <td>-0.48593</td>\n",
       "      <td>0.078585</td>\n",
       "      <td>-0.95808</td>\n",
       "      <td>-8.5089</td>\n",
       "      <td>4.1058</td>\n",
       "      <td>0.66863</td>\n",
       "      <td>-0.45175</td>\n",
       "      <td>0.69181</td>\n",
       "    </tr>\n",
       "  </tbody>\n",
       "</table>\n",
       "</div>"
      ],
      "text/plain": [
       "   Subject ID  Activity ID  Time stamp      alx     aly     alz      glx  \\\n",
       "0           1            1           1  0.28409 -9.5692  1.4931  0.70501   \n",
       "1           1            1           2  0.41798 -9.6980  1.4880  0.70501   \n",
       "2           1            1           3  0.33479 -9.5896  1.4405  0.69388   \n",
       "3           1            1           4  0.27516 -9.6480  1.5412  0.69388   \n",
       "4           1            1           5  0.32434 -9.6298  1.3759  0.69388   \n",
       "\n",
       "       gly       glz      arx     ary     arz      grx      gry      grz  \n",
       "0 -0.48968  0.058939 -0.98630 -8.7188  4.1161  0.64510 -0.45175  0.69181  \n",
       "1 -0.48968  0.058939 -0.98795 -9.0372  4.2773  0.66667 -0.44353  0.66810  \n",
       "2 -0.48593  0.078585 -0.89327 -8.7099  4.0124  0.66667 -0.44353  0.66810  \n",
       "3 -0.48593  0.078585 -0.95632 -8.7986  4.1434  0.66667 -0.44353  0.66810  \n",
       "4 -0.48593  0.078585 -0.95808 -8.5089  4.1058  0.66863 -0.45175  0.69181  "
      ]
     },
     "execution_count": 10,
     "metadata": {},
     "output_type": "execute_result"
    }
   ],
   "source": [
    "file_data =  \"./Movement_dataset_v2.xlsx\"\n",
    "data = pd.read_excel(file_data)\n",
    "data.head()"
   ]
  },
  {
   "cell_type": "markdown",
   "id": "4dbfea8a",
   "metadata": {},
   "source": [
    "### 1.1 Preliminiary analysis"
   ]
  },
  {
   "cell_type": "markdown",
   "id": "5451843c",
   "metadata": {},
   "source": [
    "Q1.1 The variables are highly correlated if the variables within a activity have a higher correlation than 0.90"
   ]
  },
  {
   "cell_type": "markdown",
   "id": "54d05e5f",
   "metadata": {},
   "source": [
    "Q1.2"
   ]
  },
  {
   "cell_type": "markdown",
   "id": "1df24502",
   "metadata": {},
   "source": [
    "Q1.3"
   ]
  },
  {
   "cell_type": "markdown",
   "id": "73858305",
   "metadata": {},
   "source": [
    "### 1.2 Data scaling"
   ]
  },
  {
   "cell_type": "markdown",
   "id": "857a1099",
   "metadata": {},
   "source": [
    "Q1.4"
   ]
  },
  {
   "cell_type": "markdown",
   "id": "898d3599",
   "metadata": {},
   "source": [
    "## Part 2: Principal Component Analysis"
   ]
  },
  {
   "cell_type": "markdown",
   "id": "71aa447a",
   "metadata": {},
   "source": [
    "### 2.1 Selection of the number of principal components"
   ]
  },
  {
   "cell_type": "markdown",
   "id": "66299559",
   "metadata": {},
   "source": [
    "Q2.1"
   ]
  },
  {
   "cell_type": "markdown",
   "id": "58fe8561",
   "metadata": {},
   "source": [
    "### 2.2 Analysis of the variables"
   ]
  },
  {
   "cell_type": "markdown",
   "id": "b587c6e1",
   "metadata": {},
   "source": [
    "Q2.2"
   ]
  },
  {
   "cell_type": "markdown",
   "id": "536c4346",
   "metadata": {},
   "source": [
    "Q2.3"
   ]
  },
  {
   "cell_type": "markdown",
   "id": "dc6475fb",
   "metadata": {},
   "source": [
    "Q2.4"
   ]
  },
  {
   "cell_type": "markdown",
   "id": "4128631f",
   "metadata": {},
   "source": [
    "Q2.5"
   ]
  },
  {
   "cell_type": "markdown",
   "id": "49b35f62",
   "metadata": {},
   "source": [
    "### 2.3 Analysis of the samples"
   ]
  },
  {
   "cell_type": "markdown",
   "id": "bf228519",
   "metadata": {},
   "source": [
    "Q2.6"
   ]
  },
  {
   "cell_type": "markdown",
   "id": "c5b8ff2a",
   "metadata": {},
   "source": [
    "Q2.7"
   ]
  },
  {
   "cell_type": "markdown",
   "id": "cdeea065",
   "metadata": {},
   "source": [
    "## Part 3: Interpretation"
   ]
  },
  {
   "cell_type": "markdown",
   "id": "442e64a6",
   "metadata": {},
   "source": [
    "Q3.1"
   ]
  },
  {
   "cell_type": "markdown",
   "id": "5335685d",
   "metadata": {},
   "source": [
    "Q3.2"
   ]
  },
  {
   "cell_type": "markdown",
   "id": "22728060",
   "metadata": {},
   "source": [
    "Q3.3"
   ]
  },
  {
   "cell_type": "markdown",
   "id": "b741d780",
   "metadata": {},
   "source": [
    "Q3.4"
   ]
  }
 ],
 "metadata": {
  "kernelspec": {
   "display_name": "Python 3",
   "language": "python",
   "name": "python3"
  },
  "language_info": {
   "codemirror_mode": {
    "name": "ipython",
    "version": 3
   },
   "file_extension": ".py",
   "mimetype": "text/x-python",
   "name": "python",
   "nbconvert_exporter": "python",
   "pygments_lexer": "ipython3",
   "version": "3.8.8"
  }
 },
 "nbformat": 4,
 "nbformat_minor": 5
}
